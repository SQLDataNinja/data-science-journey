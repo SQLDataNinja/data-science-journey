{
 "cells": [
  {
   "cell_type": "markdown",
   "metadata": {},
   "source": [
    "# I. Define the Problem\n",
    "For this small project I am going to analyze characteristics of baseball players. We want to build a model to predict the Position of a player based on these characteristics using features like age, height, weight, throwing and batting arm."
   ]
  },
  {
   "cell_type": "markdown",
   "metadata": {},
   "source": [
    "# II. Collect the Data\n",
    "First step is to load our source data into our environment in order to begin our analysis. To do this we will need to collect some data from [Baseball Reference's](https://www.baseball-reference.com) website by leveraging both the **Requests** and **BeautifulSoup** libraries. These two libraries help us easily access website data and scrape the datapoints we need for our analysis. \n",
    "\n",
    "In order for to know what to scrape we need to inspect the webpage's source code to narrow down what elements need captured from the HTML and what page elements do not. Here we are going to pull all the data from an HTML table with the id of 'appearances'. This html element holds all the data we need for our analysis. Since the element is an HTML table, we know the data is already structured, so we will store our HTML table data in a dataframe by leveraging the **Pandas** library. **Pandas** is a handy open-source data analysis library, it is particularly useful for structured data operations and manipulations."
   ]
  },
  {
   "cell_type": "code",
   "execution_count": 43,
   "metadata": {},
   "outputs": [],
   "source": [
    "# Import Python Libraries\n",
    "import pandas as pd             # for structured data operations and manipulations\n",
    "import numpy as np              # for scientific computing \n",
    "import requests                 # for accessing the web\n",
    "from bs4 import BeautifulSoup   # for scraping information from web pages"
   ]
  },
  {
   "cell_type": "markdown",
   "metadata": {},
   "source": [
    "There is a chance that we might need to more data from this data source later in our analysis, so let's take some time now to create a reuseable function to make this task easier. The below function will take two parameters, 'teams' and 'years'. Both parameters will be of List datatype. This will allow us to dynamically build out dataframe to increase the amount of data being collected by team and time (years). Since this function can be reused, its a good idea to add some basic logging and error-handling so if the results of a function call are unexpected, then we have a starting point to start digging for the problem and debug."
   ]
  },
  {
   "cell_type": "code",
   "execution_count": 44,
   "metadata": {},
   "outputs": [],
   "source": [
    "def get_baseball_roster_stats(list_of_team_city_abbrv=['PIT'], list_of_years=[2014]):\n",
    "    \"\"\" Returns *list_of_teams* for *list_of_years* player roster data.\n",
    "    \n",
    "    Usage::\n",
    "        >>> df_baseball_rosters = get_baseball_roster_stats(['PIT', 'ATL'], [2014,2015])\n",
    "        \n",
    "    :param list_of_team_city_abbrv: A list of city abbreviations for baseball teams. Default = 'PIT'\n",
    "    :param list_of_years: A list of integers representing years. Default = 2014\n",
    "    :rtype: A Pandas dataframe\n",
    "    \"\"\"\n",
    "    # Create base url for data source to build out dynamically: url_roster_base\n",
    "    url_roster_base = 'https://www.baseball-reference.com/teams/'\n",
    "    \n",
    "    # Initialize return dataframe to hold rosters data: df_rosters\n",
    "    df_rosters = pd.DataFrame()\n",
    "    \n",
    "    for team in list_of_team_city_abbrv:\n",
    "        # Add team city abbreviation to base URL: url_roster_team\n",
    "        url_roster_team = url_roster_base + team + '/'\n",
    "        \n",
    "        # !!![Debug]!!! - Check the dynamic URL build process, added team\n",
    "        #print('Add team to URL: ' + url_roster_team)\n",
    "        \n",
    "        for year in list_of_years:\n",
    "            # Add year and url suffix to dynamic URL: url_roster_year\n",
    "            url_roster_year = url_roster_team + str(year) + '-roster.shtml'\n",
    "            \n",
    "            # !!![Debug]!!! - Check the dynamic URL build process, added year\n",
    "            #print('Team Year URL: ' + url_roster_year)\n",
    "            \n",
    "            try:\n",
    "                # Request GET for dynamically built URL for team and year: res\n",
    "                res = requests.get(url_roster_year)\n",
    "                \n",
    "                # Get the HTML/XML source code for the webpage: soup\n",
    "                soup = BeautifulSoup(res.content,'lxml')\n",
    "                \n",
    "                # Search HTML elements to get targeted table's content: table\n",
    "                table = soup.find('table', id='appearances')\n",
    "                \n",
    "                # Read table contents into a Pandas dataframe: df\n",
    "                df = pd.read_html(str(table))[0]\n",
    "                df['Year'] = year\n",
    "                df['Team'] = team\n",
    "                \n",
    "                # Add year-team created dataframe to returning datafame (df_rosters)\n",
    "                df_rosters = df_rosters.append(df)\n",
    "\n",
    "                # Logging\n",
    "                print('Successfully loaded data for {0}''s {1} team.'.format(team, year))\n",
    "                \n",
    "            except:\n",
    "                # If an error occurs with the HTML scraping or Dataframe load, raise this Error Message.\n",
    "                print('Webscraping Error: Check URL and HTML Table for Changes/Issues.')\n",
    "            \n",
    "            # Reset URL to build out for next year for current team\n",
    "            url_roster_year = ''\n",
    "            \n",
    "    return df_rosters"
   ]
  },
  {
   "cell_type": "markdown",
   "metadata": {},
   "source": [
    "Now that we have created this handy function to help with our **data collection** let's get started by selecting one team to focus on, but to grab enough data to start our analysis lets grab multiple years of data."
   ]
  },
  {
   "cell_type": "code",
   "execution_count": 45,
   "metadata": {},
   "outputs": [
    {
     "name": "stdout",
     "output_type": "stream",
     "text": [
      "Successfully loaded data for PITs 2000 team.\n",
      "Successfully loaded data for PITs 2001 team.\n",
      "Successfully loaded data for PITs 2002 team.\n",
      "Successfully loaded data for PITs 2003 team.\n",
      "Successfully loaded data for PITs 2004 team.\n",
      "Successfully loaded data for PITs 2005 team.\n",
      "Successfully loaded data for PITs 2006 team.\n",
      "Successfully loaded data for PITs 2007 team.\n",
      "Successfully loaded data for PITs 2008 team.\n",
      "Successfully loaded data for PITs 2009 team.\n",
      "Successfully loaded data for PITs 2010 team.\n",
      "Successfully loaded data for PITs 2011 team.\n",
      "Successfully loaded data for PITs 2012 team.\n",
      "Successfully loaded data for PITs 2013 team.\n",
      "Successfully loaded data for PITs 2014 team.\n",
      "Successfully loaded data for PITs 2015 team.\n",
      "Successfully loaded data for PITs 2016 team.\n",
      "Successfully loaded data for PITs 2017 team.\n",
      "Successfully loaded data for PITs 2018 team.\n"
     ]
    }
   ],
   "source": [
    "df_all_rosters = get_baseball_roster_stats(['PIT'], range(2000,2019))"
   ]
  },
  {
   "cell_type": "markdown",
   "metadata": {},
   "source": [
    "# III. Explore the Data\n",
    "Now we have our data imported into our environment, we need to start exploring our data to understand what we are working with more. In this stage we will plot data, look for anomalies and identify any useful patterns"
   ]
  },
  {
   "cell_type": "markdown",
   "metadata": {},
   "source": [
    "## Exploratory Data Analysis - Quantitative\n",
    "A good starting point in Exploratory Data Analysis (EDA) exercise is to look at high-level/summary data, as well as the metadata of our dataset to help us understand the data a bit better.\n",
    "\n",
    "We'll start by checking out the first 10 rows of the DataFrame to get a quick look at the dataset."
   ]
  },
  {
   "cell_type": "code",
   "execution_count": 46,
   "metadata": {},
   "outputs": [
    {
     "name": "stdout",
     "output_type": "stream",
     "text": [
      "                 Name Age Unnamed: 2  B  T     Ht   Wt           DoB  Yrs  \\\n",
      "0      Jimmy Anderson  24      us US  L  L  6' 1\"  195  Jan 22, 1976    2   \n",
      "1      Bronson Arroyo  23      us US  R  R  6' 3\"  185  Feb 24, 1977  1st   \n",
      "2          Bruce Aven  28      us US  R  R  5' 9\"  180   Mar 4, 1972    3   \n",
      "3       Mike Benjamin  34      us US  R  R  6' 3\"  195  Nov 22, 1965   12   \n",
      "4         Kris Benson  25      us US  R  R  6' 4\"  190   Nov 7, 1974    2   \n",
      "5        Adrian Brown  26      us US  B  R  6' 0\"  175   Feb 7, 1974    4   \n",
      "6          Emil Brown  25      us US  R  R  6' 2\"  195  Dec 29, 1974    4   \n",
      "7  Jason Christiansen  30      us US  R  L  6' 5\"  230  Sep 21, 1969    6   \n",
      "8         Brad Clontz  29      us US  R  R  6' 1\"  180  Apr 25, 1971    6   \n",
      "9         Wil Cordero  28      pr PR  R  R  6' 2\"  185   Oct 3, 1971    9   \n",
      "\n",
      "     G ...   RF  OF DH  PH PR   WAR      Salary Unnamed: 28  Year Team  \n",
      "0   27 ...    0   0  0   0  0   0.7    $215,000         NaN  2000  PIT  \n",
      "1   21 ...    0   0  0   1  1  -1.1         NaN         NaN  2000  PIT  \n",
      "2   72 ...   20  45  0  35  0  -0.4    $320,000         NaN  2000  PIT  \n",
      "3   93 ...    0   0  0   9  7   1.0    $700,000         NaN  2000  PIT  \n",
      "4   32 ...    0   0  0   0  0   4.9    $300,000         NaN  2000  PIT  \n",
      "5  104 ...   15  93  0  23  0   1.6    $285,000         NaN  2000  PIT  \n",
      "6   50 ...   18  44  0  15  1  -0.5         NaN         NaN  2000  PIT  \n",
      "7   44 ...    0   0  0   0  0   0.2  $1,000,000         NaN  2000  PIT  \n",
      "8    5 ...    0   0  0   0  0   0.1         NaN         NaN  2000  PIT  \n",
      "9   89 ...    0  85  1   4  0  -0.3  $2,166,667         NaN  2000  PIT  \n",
      "\n",
      "[10 rows x 31 columns]\n"
     ]
    }
   ],
   "source": [
    "print(df_all_rosters.head(10))"
   ]
  },
  {
   "cell_type": "markdown",
   "metadata": {},
   "source": [
    "By simply previewing our dataframe we can derive some insight immediately. For instance, we have a very diverse set of data, some numerical, some date related, some categorical, etc. One way to gain a better understanding of the metadata is to review a more concise summary of the DataFrame. The **info()** method in the **Pandas** library allows us to do just that by printing information about a DataFrame including the index dtype and column dtypes, non-null values and memory usage."
   ]
  },
  {
   "cell_type": "code",
   "execution_count": 47,
   "metadata": {},
   "outputs": [
    {
     "name": "stdout",
     "output_type": "stream",
     "text": [
      "<class 'pandas.core.frame.DataFrame'>\n",
      "Int64Index: 912 entries, 0 to 48\n",
      "Data columns (total 31 columns):\n",
      "Name           912 non-null object\n",
      "Age            912 non-null object\n",
      "Unnamed: 2     893 non-null object\n",
      "B              912 non-null object\n",
      "T              912 non-null object\n",
      "Ht             912 non-null object\n",
      "Wt             912 non-null object\n",
      "DoB            912 non-null object\n",
      "Yrs            912 non-null object\n",
      "G              912 non-null object\n",
      "GS             912 non-null object\n",
      "Batting        912 non-null object\n",
      "Defense        912 non-null object\n",
      "P              912 non-null object\n",
      "C              912 non-null object\n",
      "1B             912 non-null object\n",
      "2B             912 non-null object\n",
      "3B             912 non-null object\n",
      "SS             912 non-null object\n",
      "LF             912 non-null object\n",
      "CF             912 non-null object\n",
      "RF             912 non-null object\n",
      "OF             912 non-null object\n",
      "DH             912 non-null object\n",
      "PH             912 non-null object\n",
      "PR             912 non-null object\n",
      "WAR            912 non-null object\n",
      "Salary         540 non-null object\n",
      "Unnamed: 28    35 non-null object\n",
      "Year           912 non-null int64\n",
      "Team           912 non-null object\n",
      "dtypes: int64(1), object(30)\n",
      "memory usage: 228.0+ KB\n"
     ]
    }
   ],
   "source": [
    "# View information about the DataFrame metadata\n",
    "df_all_rosters.info(verbose=True, null_counts=True)"
   ]
  },
  {
   "cell_type": "markdown",
   "metadata": {},
   "source": [
    "We can dervive additional information about our dataframe by reviewing the metadata above. For instance, we can see that there are a total of 31 columns and 912 rows or samples in our dataset. However, if we look at the non-null values for each column we see that the 'Unnamed: 2', 'Salary', 'Unnamed: 28' columns are missing data. This means we need to investigate these columns to determine if **data cleansing** is needed. "
   ]
  },
  {
   "cell_type": "markdown",
   "metadata": {},
   "source": [
    "## Cleanse the Data\n",
    "It is common to complete some data cleansing or wrangling processes while we explore and learn more about our data. Data cleansing is important to make sure our data is in a format and structure that can be easily consumed by our analysis and models. This might include task such as checking for proper data types and converting data to correct data types/formats when needed. This can also involve stripping characters from the strings. There might also be some missing values in the dataset that need to be handled by adding or deleting some values.\n",
    "\n",
    "So let's again preview the data from above, but we will narrow it to just these rows in question and see if there is any data cleansing needed to add more value to this dataset."
   ]
  },
  {
   "cell_type": "code",
   "execution_count": 48,
   "metadata": {},
   "outputs": [
    {
     "name": "stdout",
     "output_type": "stream",
     "text": [
      "  Unnamed: 2      Salary Unnamed: 28\n",
      "0      us US    $215,000         NaN\n",
      "1      us US         NaN         NaN\n",
      "2      us US    $320,000         NaN\n",
      "3      us US    $700,000         NaN\n",
      "4      us US    $300,000         NaN\n",
      "5      us US    $285,000         NaN\n",
      "6      us US         NaN         NaN\n",
      "7      us US  $1,000,000         NaN\n",
      "8      us US         NaN         NaN\n",
      "9      pr PR  $2,166,667         NaN\n"
     ]
    }
   ],
   "source": [
    "print(df_all_rosters[['Unnamed: 2', 'Salary', 'Unnamed: 28']].head(10))"
   ]
  },
  {
   "cell_type": "markdown",
   "metadata": {},
   "source": [
    "Since two of these columns have ambigious or unclear labels, its hard to determine if these columns are valueable and if so, can we clean or transform the data to provide more insight. So, let's investigate each of these columns seperately, starting with 'Unnamed: 28'. The first question to answer is, what values are in the column that are non-null. This will give us information on what this column represents."
   ]
  },
  {
   "cell_type": "code",
   "execution_count": 49,
   "metadata": {},
   "outputs": [
    {
     "name": "stdout",
     "output_type": "stream",
     "text": [
      "['All-Star']\n"
     ]
    }
   ],
   "source": [
    "# Get unique values in column 'Unnamed: 28'\n",
    "print(df_all_rosters[df_all_rosters['Unnamed: 28'].notnull()]['Unnamed: 28'].unique())"
   ]
  },
  {
   "cell_type": "markdown",
   "metadata": {},
   "source": [
    "It appears that this column indicates if a player was categorized as an 'All-Star' player for the season or not. It can be assumed that the NaN value means the player was not an All-Star. So let's clean this column up by replacing NaN with 'Regular'. But first, let's create a copy of the original dataframe to use going forward that will be cleansed and transformed, allowing us to still have the original 'raw' dataframe stored incase we need it."
   ]
  },
  {
   "cell_type": "code",
   "execution_count": 50,
   "metadata": {},
   "outputs": [
    {
     "name": "stdout",
     "output_type": "stream",
     "text": [
      "['Regular' 'All-Star']\n"
     ]
    }
   ],
   "source": [
    "# Create copy of dataframe to maintain original: df_all_rosters_clean\n",
    "df_all_rosters_clean = df_all_rosters.copy()\n",
    "\n",
    "# Replace all NaN values in 'Unnamed: 28' column with 'Regular'\n",
    "df_all_rosters_clean['Unnamed: 28'].fillna('Regular', inplace=True)\n",
    "\n",
    "# Check\n",
    "print(df_all_rosters_clean[df_all_rosters_clean['Unnamed: 28'].notnull()]['Unnamed: 28'].unique())"
   ]
  },
  {
   "cell_type": "markdown",
   "metadata": {},
   "source": [
    "Now let's tackle our other ambigious column 'Unnamed: 2', this one is a little more clear, it looks like it might be the country the player is from, but let's take deeper look."
   ]
  },
  {
   "cell_type": "code",
   "execution_count": 51,
   "metadata": {},
   "outputs": [
    {
     "name": "stdout",
     "output_type": "stream",
     "text": [
      "['us US' 'pr PR' 'mx MX' 'do DO' 've VE' 'ca CA' 'cw CW' 'jp JP' 'cu CU'\n",
      " 'kr KR' 'nl NL' 'co CO' 'lt LT' 'za ZA']\n"
     ]
    }
   ],
   "source": [
    "# Get unique values in column 'Unnamed: 2'\n",
    "print(df_all_rosters_clean[df_all_rosters_clean['Unnamed: 2'].notnull()]['Unnamed: 2'].unique())"
   ]
  },
  {
   "cell_type": "markdown",
   "metadata": {},
   "source": [
    "After reviewing the unique values in our 'Unnamed: 2' column and going back to the [data source itself](https://www.baseball-reference.com/teams/PIT/2018-roster.shtml) to evaluate, we can conclude this column is the player's home country, however the table column cell has the country's abbreviation in caps next to an image of it's flag. We will remove the lower-case values and keep the upper-case values for this columns."
   ]
  },
  {
   "cell_type": "code",
   "execution_count": 52,
   "metadata": {},
   "outputs": [
    {
     "name": "stdout",
     "output_type": "stream",
     "text": [
      "['US' 'PR' 'MX' 'DO' 'VE' 'CA' 'CW' 'JP' 'CU' 'KR' 'NL' 'CO' 'LT' 'ZA']\n"
     ]
    }
   ],
   "source": [
    "# Clean duplicate country code, keep only uppercase value\n",
    "df_all_rosters_clean['Unnamed: 2'] = df_all_rosters_clean['Unnamed: 2'].apply(lambda x: x.split(' ')[1] if isinstance(x, str) else x)\n",
    "\n",
    "# Check unique values in column 'Unnamed: 2'\n",
    "print(df_all_rosters_clean[df_all_rosters_clean['Unnamed: 2'].notnull()]['Unnamed: 2'].unique())"
   ]
  },
  {
   "cell_type": "markdown",
   "metadata": {},
   "source": [
    "I think for the time being, leaving the NaN value in the 'Unnamed: 2' column makes sense, replacing with a dummy value like 'Unknown' adds no additional value to our analysis as of now. For the time being we will not address the Salary as well. Let's check how our dataset looks now after our first phase of data cleansing. But this time, lets look at the first 15 columns first, and then the remaining columns to see if we can identify other columns that might need **data cleansing**."
   ]
  },
  {
   "cell_type": "code",
   "execution_count": 53,
   "metadata": {},
   "outputs": [
    {
     "name": "stdout",
     "output_type": "stream",
     "text": [
      "                 Name Age Unnamed: 2  B  T     Ht   Wt           DoB  Yrs  \\\n",
      "0      Jimmy Anderson  24         US  L  L  6' 1\"  195  Jan 22, 1976    2   \n",
      "1      Bronson Arroyo  23         US  R  R  6' 3\"  185  Feb 24, 1977  1st   \n",
      "2          Bruce Aven  28         US  R  R  5' 9\"  180   Mar 4, 1972    3   \n",
      "3       Mike Benjamin  34         US  R  R  6' 3\"  195  Nov 22, 1965   12   \n",
      "4         Kris Benson  25         US  R  R  6' 4\"  190   Nov 7, 1974    2   \n",
      "5        Adrian Brown  26         US  B  R  6' 0\"  175   Feb 7, 1974    4   \n",
      "6          Emil Brown  25         US  R  R  6' 2\"  195  Dec 29, 1974    4   \n",
      "7  Jason Christiansen  30         US  R  L  6' 5\"  230  Sep 21, 1969    6   \n",
      "8         Brad Clontz  29         US  R  R  6' 1\"  180  Apr 25, 1971    6   \n",
      "9         Wil Cordero  28         PR  R  R  6' 2\"  185   Oct 3, 1971    9   \n",
      "\n",
      "     G  GS Batting Defense   P  C  \n",
      "0   27  26      27      27  27  0  \n",
      "1   21  12      21      20  20  0  \n",
      "2   72  26      72      41   0  0  \n",
      "3   93  54      93      85   0  0  \n",
      "4   32  32      30      32  32  0  \n",
      "5  104  63     104      92   0  0  \n",
      "6   50  26      50      38   0  0  \n",
      "7   44   0      41      44  44  0  \n",
      "8    5   0       5       5   5  0  \n",
      "9   89  84      89      85   0  0  \n",
      "               Name  Age Unnamed: 2  B  T     Ht   Wt           DoB  Yrs   G  \\\n",
      "39   Sean Rodriguez   33         US  R  R  6' 0\"  200  Apr 26, 1985   11  66   \n",
      "40      Enny Romero   27         DO  R  L  6' 3\"  232  Jan 24, 1991    5   2   \n",
      "41     Casey Sadler   27         US  R  R  6' 3\"  220  Jul 13, 1990    3   2   \n",
      "42    Edgar Santana   26         DO  R  R  6' 2\"  190  Oct 16, 1991    2  69   \n",
      "43      Josh Smoker   29         US  L  L  6' 2\"  255  Nov 26, 1988    3   7   \n",
      "44  Jacob Stallings   28         US  R  R  6' 4\"  220  Dec 22, 1989    3  14   \n",
      "45  Jameson Taillon   26         US  R  R  6' 5\"  230  Nov 18, 1991    3  32   \n",
      "46   Felipe Vazquez   26         VE  L  L  6' 2\"  225   Jul 5, 1991    4  70   \n",
      "47  Trevor Williams   26         US  R  R  6' 3\"  230  Apr 25, 1992    3  31   \n",
      "48             Name  Age        NaN  B  T     Ht   Wt           DoB  Yrs   G   \n",
      "\n",
      "    GS  Batting  Defense   P   C  \n",
      "39  36       66       56   0   0  \n",
      "40   0        2        2   2   0  \n",
      "41   0        2        2   2   0  \n",
      "42   0       64       69  69   0  \n",
      "43   0        6        7   7   0  \n",
      "44   9       14       13   0  13  \n",
      "45  32       30       32  32   0  \n",
      "46   0       64       70  70   0  \n",
      "47  31       28       31  31   0  \n",
      "48  GS  Batting  Defense   P   C  \n"
     ]
    }
   ],
   "source": [
    "print(df_all_rosters_clean.iloc[:,0:15].head(10))\n",
    "print(df_all_rosters_clean.iloc[:,0:15].tail(10))"
   ]
  },
  {
   "cell_type": "markdown",
   "metadata": {},
   "source": [
    "It would appear that we have potentially records we did not intend to scrape from the data source to our dataframe. The last record of the dataframe is a repeat of the columns names. Let's remove any rows where the value of the 'Name' column is 'Name'. That should clean that up."
   ]
  },
  {
   "cell_type": "code",
   "execution_count": 54,
   "metadata": {},
   "outputs": [
    {
     "name": "stdout",
     "output_type": "stream",
     "text": [
      "A Total of 19 rows were removed from the dataframe.\n"
     ]
    }
   ],
   "source": [
    "row_count_prior = df_all_rosters_clean.shape[0]\n",
    "\n",
    "df_all_rosters_clean = df_all_rosters_clean[df_all_rosters_clean.Name != 'Name']\n",
    "\n",
    "row_count_after = df_all_rosters_clean.shape[0]\n",
    "print('A Total of {} rows were removed from the dataframe.'.format(row_count_prior-row_count_after))"
   ]
  },
  {
   "cell_type": "markdown",
   "metadata": {},
   "source": [
    "The only column that appears to need addition data cleansing or transformation is the 'Ht' column that represents the player's height in the format of Feet' Inches\", therefore this column was identified as an object or string column. Let's convert this column to represent the player's height in inches so this then is easier to handle in our analysis as it will then be numberic."
   ]
  },
  {
   "cell_type": "code",
   "execution_count": 55,
   "metadata": {},
   "outputs": [
    {
     "data": {
      "text/html": [
       "<div>\n",
       "<style scoped>\n",
       "    .dataframe tbody tr th:only-of-type {\n",
       "        vertical-align: middle;\n",
       "    }\n",
       "\n",
       "    .dataframe tbody tr th {\n",
       "        vertical-align: top;\n",
       "    }\n",
       "\n",
       "    .dataframe thead th {\n",
       "        text-align: right;\n",
       "    }\n",
       "</style>\n",
       "<table border=\"1\" class=\"dataframe\">\n",
       "  <thead>\n",
       "    <tr style=\"text-align: right;\">\n",
       "      <th></th>\n",
       "      <th>Name</th>\n",
       "      <th>Age</th>\n",
       "      <th>Unnamed: 2</th>\n",
       "      <th>B</th>\n",
       "      <th>T</th>\n",
       "      <th>Ht</th>\n",
       "      <th>Wt</th>\n",
       "      <th>DoB</th>\n",
       "      <th>Yrs</th>\n",
       "      <th>G</th>\n",
       "      <th>GS</th>\n",
       "      <th>Batting</th>\n",
       "      <th>Defense</th>\n",
       "      <th>P</th>\n",
       "      <th>C</th>\n",
       "    </tr>\n",
       "  </thead>\n",
       "  <tbody>\n",
       "    <tr>\n",
       "      <th>0</th>\n",
       "      <td>Jimmy Anderson</td>\n",
       "      <td>24</td>\n",
       "      <td>US</td>\n",
       "      <td>L</td>\n",
       "      <td>L</td>\n",
       "      <td>73</td>\n",
       "      <td>195</td>\n",
       "      <td>Jan 22, 1976</td>\n",
       "      <td>2</td>\n",
       "      <td>27</td>\n",
       "      <td>26</td>\n",
       "      <td>27</td>\n",
       "      <td>27</td>\n",
       "      <td>27</td>\n",
       "      <td>0</td>\n",
       "    </tr>\n",
       "    <tr>\n",
       "      <th>1</th>\n",
       "      <td>Bronson Arroyo</td>\n",
       "      <td>23</td>\n",
       "      <td>US</td>\n",
       "      <td>R</td>\n",
       "      <td>R</td>\n",
       "      <td>75</td>\n",
       "      <td>185</td>\n",
       "      <td>Feb 24, 1977</td>\n",
       "      <td>1st</td>\n",
       "      <td>21</td>\n",
       "      <td>12</td>\n",
       "      <td>21</td>\n",
       "      <td>20</td>\n",
       "      <td>20</td>\n",
       "      <td>0</td>\n",
       "    </tr>\n",
       "    <tr>\n",
       "      <th>2</th>\n",
       "      <td>Bruce Aven</td>\n",
       "      <td>28</td>\n",
       "      <td>US</td>\n",
       "      <td>R</td>\n",
       "      <td>R</td>\n",
       "      <td>69</td>\n",
       "      <td>180</td>\n",
       "      <td>Mar 4, 1972</td>\n",
       "      <td>3</td>\n",
       "      <td>72</td>\n",
       "      <td>26</td>\n",
       "      <td>72</td>\n",
       "      <td>41</td>\n",
       "      <td>0</td>\n",
       "      <td>0</td>\n",
       "    </tr>\n",
       "    <tr>\n",
       "      <th>3</th>\n",
       "      <td>Mike Benjamin</td>\n",
       "      <td>34</td>\n",
       "      <td>US</td>\n",
       "      <td>R</td>\n",
       "      <td>R</td>\n",
       "      <td>75</td>\n",
       "      <td>195</td>\n",
       "      <td>Nov 22, 1965</td>\n",
       "      <td>12</td>\n",
       "      <td>93</td>\n",
       "      <td>54</td>\n",
       "      <td>93</td>\n",
       "      <td>85</td>\n",
       "      <td>0</td>\n",
       "      <td>0</td>\n",
       "    </tr>\n",
       "    <tr>\n",
       "      <th>4</th>\n",
       "      <td>Kris Benson</td>\n",
       "      <td>25</td>\n",
       "      <td>US</td>\n",
       "      <td>R</td>\n",
       "      <td>R</td>\n",
       "      <td>76</td>\n",
       "      <td>190</td>\n",
       "      <td>Nov 7, 1974</td>\n",
       "      <td>2</td>\n",
       "      <td>32</td>\n",
       "      <td>32</td>\n",
       "      <td>30</td>\n",
       "      <td>32</td>\n",
       "      <td>32</td>\n",
       "      <td>0</td>\n",
       "    </tr>\n",
       "    <tr>\n",
       "      <th>5</th>\n",
       "      <td>Adrian Brown</td>\n",
       "      <td>26</td>\n",
       "      <td>US</td>\n",
       "      <td>B</td>\n",
       "      <td>R</td>\n",
       "      <td>72</td>\n",
       "      <td>175</td>\n",
       "      <td>Feb 7, 1974</td>\n",
       "      <td>4</td>\n",
       "      <td>104</td>\n",
       "      <td>63</td>\n",
       "      <td>104</td>\n",
       "      <td>92</td>\n",
       "      <td>0</td>\n",
       "      <td>0</td>\n",
       "    </tr>\n",
       "    <tr>\n",
       "      <th>6</th>\n",
       "      <td>Emil Brown</td>\n",
       "      <td>25</td>\n",
       "      <td>US</td>\n",
       "      <td>R</td>\n",
       "      <td>R</td>\n",
       "      <td>74</td>\n",
       "      <td>195</td>\n",
       "      <td>Dec 29, 1974</td>\n",
       "      <td>4</td>\n",
       "      <td>50</td>\n",
       "      <td>26</td>\n",
       "      <td>50</td>\n",
       "      <td>38</td>\n",
       "      <td>0</td>\n",
       "      <td>0</td>\n",
       "    </tr>\n",
       "    <tr>\n",
       "      <th>7</th>\n",
       "      <td>Jason Christiansen</td>\n",
       "      <td>30</td>\n",
       "      <td>US</td>\n",
       "      <td>R</td>\n",
       "      <td>L</td>\n",
       "      <td>77</td>\n",
       "      <td>230</td>\n",
       "      <td>Sep 21, 1969</td>\n",
       "      <td>6</td>\n",
       "      <td>44</td>\n",
       "      <td>0</td>\n",
       "      <td>41</td>\n",
       "      <td>44</td>\n",
       "      <td>44</td>\n",
       "      <td>0</td>\n",
       "    </tr>\n",
       "    <tr>\n",
       "      <th>8</th>\n",
       "      <td>Brad Clontz</td>\n",
       "      <td>29</td>\n",
       "      <td>US</td>\n",
       "      <td>R</td>\n",
       "      <td>R</td>\n",
       "      <td>73</td>\n",
       "      <td>180</td>\n",
       "      <td>Apr 25, 1971</td>\n",
       "      <td>6</td>\n",
       "      <td>5</td>\n",
       "      <td>0</td>\n",
       "      <td>5</td>\n",
       "      <td>5</td>\n",
       "      <td>5</td>\n",
       "      <td>0</td>\n",
       "    </tr>\n",
       "    <tr>\n",
       "      <th>9</th>\n",
       "      <td>Wil Cordero</td>\n",
       "      <td>28</td>\n",
       "      <td>PR</td>\n",
       "      <td>R</td>\n",
       "      <td>R</td>\n",
       "      <td>74</td>\n",
       "      <td>185</td>\n",
       "      <td>Oct 3, 1971</td>\n",
       "      <td>9</td>\n",
       "      <td>89</td>\n",
       "      <td>84</td>\n",
       "      <td>89</td>\n",
       "      <td>85</td>\n",
       "      <td>0</td>\n",
       "      <td>0</td>\n",
       "    </tr>\n",
       "  </tbody>\n",
       "</table>\n",
       "</div>"
      ],
      "text/plain": [
       "                 Name Age Unnamed: 2  B  T  Ht   Wt           DoB  Yrs    G  \\\n",
       "0      Jimmy Anderson  24         US  L  L  73  195  Jan 22, 1976    2   27   \n",
       "1      Bronson Arroyo  23         US  R  R  75  185  Feb 24, 1977  1st   21   \n",
       "2          Bruce Aven  28         US  R  R  69  180   Mar 4, 1972    3   72   \n",
       "3       Mike Benjamin  34         US  R  R  75  195  Nov 22, 1965   12   93   \n",
       "4         Kris Benson  25         US  R  R  76  190   Nov 7, 1974    2   32   \n",
       "5        Adrian Brown  26         US  B  R  72  175   Feb 7, 1974    4  104   \n",
       "6          Emil Brown  25         US  R  R  74  195  Dec 29, 1974    4   50   \n",
       "7  Jason Christiansen  30         US  R  L  77  230  Sep 21, 1969    6   44   \n",
       "8         Brad Clontz  29         US  R  R  73  180  Apr 25, 1971    6    5   \n",
       "9         Wil Cordero  28         PR  R  R  74  185   Oct 3, 1971    9   89   \n",
       "\n",
       "   GS Batting Defense   P  C  \n",
       "0  26      27      27  27  0  \n",
       "1  12      21      20  20  0  \n",
       "2  26      72      41   0  0  \n",
       "3  54      93      85   0  0  \n",
       "4  32      30      32  32  0  \n",
       "5  63     104      92   0  0  \n",
       "6  26      50      38   0  0  \n",
       "7   0      41      44  44  0  \n",
       "8   0       5       5   5  0  \n",
       "9  84      89      85   0  0  "
      ]
     },
     "execution_count": 55,
     "metadata": {},
     "output_type": "execute_result"
    }
   ],
   "source": [
    "# Feet to Inches convert function\n",
    "fn_height_convert = lambda x: int(x.split(\"'\")[0])*12 + int(x.split(\"'\")[1].replace('\"', ''))\n",
    "\n",
    "# Clean Height column by converting string representation of feet to numeric representation of inches\n",
    "df_all_rosters_clean['Ht'] = df_all_rosters_clean['Ht'].apply(fn_height_convert)\n",
    "\n",
    "# Test\n",
    "df_all_rosters_clean.iloc[:,0:15].head(10)"
   ]
  },
  {
   "cell_type": "markdown",
   "metadata": {},
   "source": [
    "While we are in a data cleansing mood, lets convert some of these object features to type 'category' where it makes sense. This is a good practice as the Category data type uses less memory which will improve performance for some operations, such as the **groupby()** operation. We should also make sure all the other columns are of optimal data type for our analysis."
   ]
  },
  {
   "cell_type": "code",
   "execution_count": 56,
   "metadata": {},
   "outputs": [
    {
     "name": "stdout",
     "output_type": "stream",
     "text": [
      "<class 'pandas.core.frame.DataFrame'>\n",
      "Int64Index: 893 entries, 0 to 47\n",
      "Data columns (total 31 columns):\n",
      "Name           893 non-null object\n",
      "Age            893 non-null int64\n",
      "Unnamed: 2     893 non-null category\n",
      "B              893 non-null category\n",
      "T              893 non-null category\n",
      "Ht             893 non-null int64\n",
      "Wt             893 non-null int64\n",
      "DoB            893 non-null object\n",
      "Yrs            893 non-null object\n",
      "G              893 non-null int64\n",
      "GS             893 non-null int64\n",
      "Batting        893 non-null int64\n",
      "Defense        893 non-null int64\n",
      "P              893 non-null int64\n",
      "C              893 non-null int64\n",
      "1B             893 non-null int64\n",
      "2B             893 non-null int64\n",
      "3B             893 non-null int64\n",
      "SS             893 non-null int64\n",
      "LF             893 non-null int64\n",
      "CF             893 non-null int64\n",
      "RF             893 non-null int64\n",
      "OF             893 non-null int64\n",
      "DH             893 non-null int64\n",
      "PH             893 non-null int64\n",
      "PR             893 non-null int64\n",
      "WAR            893 non-null float64\n",
      "Salary         521 non-null float64\n",
      "Unnamed: 28    893 non-null object\n",
      "Year           893 non-null int64\n",
      "Team           893 non-null category\n",
      "dtypes: category(4), float64(2), int64(21), object(4)\n",
      "memory usage: 199.8+ KB\n"
     ]
    }
   ],
   "source": [
    "# Convert necessary object columns to numeric\n",
    "df_all_rosters_clean[['Age', 'Wt', 'G', 'GS', 'Batting', 'Defense', 'P', 'C', '1B', '2B', '3B', 'SS', 'LF',\n",
    "       'CF', 'RF', 'OF', 'DH', 'PH', 'PR', 'WAR']] = df_all_rosters_clean[['Age', 'Wt', 'G', 'GS', 'Batting', 'Defense', 'P', 'C', '1B', '2B', '3B', 'SS', 'LF',\n",
    "       'CF', 'RF', 'OF', 'DH', 'PH', 'PR', 'WAR']].apply(pd.to_numeric)\n",
    "\n",
    "# Convert necessary object columns to category\n",
    "df_all_rosters_clean[['Unnamed: 2', 'B', 'T', 'Team']] = df_all_rosters_clean[['Unnamed: 2', 'B', 'T', 'Team']].apply(pd.Categorical)\n",
    "\n",
    "#\n",
    "df_all_rosters_clean['Salary'] = df_all_rosters_clean['Salary'].replace('[\\$,]', '', regex=True).astype(float)\n",
    "\n",
    "#d.to_numeric(df_all_rosters_clean['Age'])\n",
    "df_all_rosters_clean.info()"
   ]
  },
  {
   "cell_type": "markdown",
   "metadata": {},
   "source": [
    "Next step is to clean up our column names, to provide more informative, descriptive names to help us with our analysis."
   ]
  },
  {
   "cell_type": "code",
   "execution_count": 57,
   "metadata": {},
   "outputs": [
    {
     "data": {
      "text/html": [
       "<div>\n",
       "<style scoped>\n",
       "    .dataframe tbody tr th:only-of-type {\n",
       "        vertical-align: middle;\n",
       "    }\n",
       "\n",
       "    .dataframe tbody tr th {\n",
       "        vertical-align: top;\n",
       "    }\n",
       "\n",
       "    .dataframe thead th {\n",
       "        text-align: right;\n",
       "    }\n",
       "</style>\n",
       "<table border=\"1\" class=\"dataframe\">\n",
       "  <thead>\n",
       "    <tr style=\"text-align: right;\">\n",
       "      <th></th>\n",
       "      <th>1B</th>\n",
       "      <th>2B</th>\n",
       "      <th>3B</th>\n",
       "      <th>SS</th>\n",
       "      <th>LF</th>\n",
       "      <th>CF</th>\n",
       "      <th>RF</th>\n",
       "      <th>OF</th>\n",
       "      <th>DH</th>\n",
       "      <th>PH</th>\n",
       "      <th>PR</th>\n",
       "      <th>WAR</th>\n",
       "      <th>Salary</th>\n",
       "      <th>Unnamed: 28</th>\n",
       "      <th>Year</th>\n",
       "      <th>Team</th>\n",
       "    </tr>\n",
       "  </thead>\n",
       "  <tbody>\n",
       "    <tr>\n",
       "      <th>38</th>\n",
       "      <td>0</td>\n",
       "      <td>0</td>\n",
       "      <td>0</td>\n",
       "      <td>0</td>\n",
       "      <td>0</td>\n",
       "      <td>0</td>\n",
       "      <td>0</td>\n",
       "      <td>0</td>\n",
       "      <td>0</td>\n",
       "      <td>0</td>\n",
       "      <td>0</td>\n",
       "      <td>1.7</td>\n",
       "      <td>NaN</td>\n",
       "      <td>Regular</td>\n",
       "      <td>2018</td>\n",
       "      <td>PIT</td>\n",
       "    </tr>\n",
       "    <tr>\n",
       "      <th>39</th>\n",
       "      <td>2</td>\n",
       "      <td>26</td>\n",
       "      <td>1</td>\n",
       "      <td>16</td>\n",
       "      <td>9</td>\n",
       "      <td>6</td>\n",
       "      <td>4</td>\n",
       "      <td>18</td>\n",
       "      <td>0</td>\n",
       "      <td>12</td>\n",
       "      <td>3</td>\n",
       "      <td>-0.4</td>\n",
       "      <td>5750000.0</td>\n",
       "      <td>Regular</td>\n",
       "      <td>2018</td>\n",
       "      <td>PIT</td>\n",
       "    </tr>\n",
       "    <tr>\n",
       "      <th>40</th>\n",
       "      <td>0</td>\n",
       "      <td>0</td>\n",
       "      <td>0</td>\n",
       "      <td>0</td>\n",
       "      <td>0</td>\n",
       "      <td>0</td>\n",
       "      <td>0</td>\n",
       "      <td>0</td>\n",
       "      <td>0</td>\n",
       "      <td>0</td>\n",
       "      <td>0</td>\n",
       "      <td>-0.1</td>\n",
       "      <td>NaN</td>\n",
       "      <td>Regular</td>\n",
       "      <td>2018</td>\n",
       "      <td>PIT</td>\n",
       "    </tr>\n",
       "    <tr>\n",
       "      <th>41</th>\n",
       "      <td>0</td>\n",
       "      <td>0</td>\n",
       "      <td>0</td>\n",
       "      <td>0</td>\n",
       "      <td>0</td>\n",
       "      <td>0</td>\n",
       "      <td>0</td>\n",
       "      <td>0</td>\n",
       "      <td>0</td>\n",
       "      <td>0</td>\n",
       "      <td>0</td>\n",
       "      <td>-0.3</td>\n",
       "      <td>NaN</td>\n",
       "      <td>Regular</td>\n",
       "      <td>2018</td>\n",
       "      <td>PIT</td>\n",
       "    </tr>\n",
       "    <tr>\n",
       "      <th>42</th>\n",
       "      <td>0</td>\n",
       "      <td>0</td>\n",
       "      <td>0</td>\n",
       "      <td>0</td>\n",
       "      <td>0</td>\n",
       "      <td>0</td>\n",
       "      <td>0</td>\n",
       "      <td>0</td>\n",
       "      <td>0</td>\n",
       "      <td>0</td>\n",
       "      <td>0</td>\n",
       "      <td>1.1</td>\n",
       "      <td>556500.0</td>\n",
       "      <td>Regular</td>\n",
       "      <td>2018</td>\n",
       "      <td>PIT</td>\n",
       "    </tr>\n",
       "    <tr>\n",
       "      <th>43</th>\n",
       "      <td>0</td>\n",
       "      <td>0</td>\n",
       "      <td>0</td>\n",
       "      <td>0</td>\n",
       "      <td>0</td>\n",
       "      <td>0</td>\n",
       "      <td>0</td>\n",
       "      <td>0</td>\n",
       "      <td>0</td>\n",
       "      <td>0</td>\n",
       "      <td>0</td>\n",
       "      <td>-0.4</td>\n",
       "      <td>570500.0</td>\n",
       "      <td>Regular</td>\n",
       "      <td>2018</td>\n",
       "      <td>PIT</td>\n",
       "    </tr>\n",
       "    <tr>\n",
       "      <th>44</th>\n",
       "      <td>0</td>\n",
       "      <td>0</td>\n",
       "      <td>0</td>\n",
       "      <td>0</td>\n",
       "      <td>0</td>\n",
       "      <td>0</td>\n",
       "      <td>0</td>\n",
       "      <td>0</td>\n",
       "      <td>0</td>\n",
       "      <td>3</td>\n",
       "      <td>0</td>\n",
       "      <td>-0.1</td>\n",
       "      <td>NaN</td>\n",
       "      <td>Regular</td>\n",
       "      <td>2018</td>\n",
       "      <td>PIT</td>\n",
       "    </tr>\n",
       "    <tr>\n",
       "      <th>45</th>\n",
       "      <td>0</td>\n",
       "      <td>0</td>\n",
       "      <td>0</td>\n",
       "      <td>0</td>\n",
       "      <td>0</td>\n",
       "      <td>0</td>\n",
       "      <td>0</td>\n",
       "      <td>0</td>\n",
       "      <td>0</td>\n",
       "      <td>0</td>\n",
       "      <td>0</td>\n",
       "      <td>4.4</td>\n",
       "      <td>NaN</td>\n",
       "      <td>Regular</td>\n",
       "      <td>2018</td>\n",
       "      <td>PIT</td>\n",
       "    </tr>\n",
       "    <tr>\n",
       "      <th>46</th>\n",
       "      <td>0</td>\n",
       "      <td>0</td>\n",
       "      <td>0</td>\n",
       "      <td>0</td>\n",
       "      <td>0</td>\n",
       "      <td>0</td>\n",
       "      <td>0</td>\n",
       "      <td>0</td>\n",
       "      <td>0</td>\n",
       "      <td>0</td>\n",
       "      <td>0</td>\n",
       "      <td>1.5</td>\n",
       "      <td>3000000.0</td>\n",
       "      <td>All-Star</td>\n",
       "      <td>2018</td>\n",
       "      <td>PIT</td>\n",
       "    </tr>\n",
       "    <tr>\n",
       "      <th>47</th>\n",
       "      <td>0</td>\n",
       "      <td>0</td>\n",
       "      <td>0</td>\n",
       "      <td>0</td>\n",
       "      <td>0</td>\n",
       "      <td>0</td>\n",
       "      <td>0</td>\n",
       "      <td>0</td>\n",
       "      <td>0</td>\n",
       "      <td>0</td>\n",
       "      <td>0</td>\n",
       "      <td>3.8</td>\n",
       "      <td>569500.0</td>\n",
       "      <td>Regular</td>\n",
       "      <td>2018</td>\n",
       "      <td>PIT</td>\n",
       "    </tr>\n",
       "  </tbody>\n",
       "</table>\n",
       "</div>"
      ],
      "text/plain": [
       "    1B  2B  3B  SS  LF  CF  RF  OF  DH  PH  PR  WAR     Salary Unnamed: 28  \\\n",
       "38   0   0   0   0   0   0   0   0   0   0   0  1.7        NaN     Regular   \n",
       "39   2  26   1  16   9   6   4  18   0  12   3 -0.4  5750000.0     Regular   \n",
       "40   0   0   0   0   0   0   0   0   0   0   0 -0.1        NaN     Regular   \n",
       "41   0   0   0   0   0   0   0   0   0   0   0 -0.3        NaN     Regular   \n",
       "42   0   0   0   0   0   0   0   0   0   0   0  1.1   556500.0     Regular   \n",
       "43   0   0   0   0   0   0   0   0   0   0   0 -0.4   570500.0     Regular   \n",
       "44   0   0   0   0   0   0   0   0   0   3   0 -0.1        NaN     Regular   \n",
       "45   0   0   0   0   0   0   0   0   0   0   0  4.4        NaN     Regular   \n",
       "46   0   0   0   0   0   0   0   0   0   0   0  1.5  3000000.0    All-Star   \n",
       "47   0   0   0   0   0   0   0   0   0   0   0  3.8   569500.0     Regular   \n",
       "\n",
       "    Year Team  \n",
       "38  2018  PIT  \n",
       "39  2018  PIT  \n",
       "40  2018  PIT  \n",
       "41  2018  PIT  \n",
       "42  2018  PIT  \n",
       "43  2018  PIT  \n",
       "44  2018  PIT  \n",
       "45  2018  PIT  \n",
       "46  2018  PIT  \n",
       "47  2018  PIT  "
      ]
     },
     "execution_count": 57,
     "metadata": {},
     "output_type": "execute_result"
    }
   ],
   "source": [
    "df_all_rosters_clean.iloc[:,15:].head(10)\n",
    "df_all_rosters_clean.iloc[:,15:].tail(10)"
   ]
  },
  {
   "cell_type": "markdown",
   "metadata": {},
   "source": [
    "Another good practice is if a date feature exists, make sure its datatype is datetime related. This will allow us to take full advantage of any data and time-series operations during our analysis."
   ]
  },
  {
   "cell_type": "code",
   "execution_count": 58,
   "metadata": {},
   "outputs": [
    {
     "name": "stdout",
     "output_type": "stream",
     "text": [
      "<class 'pandas.core.frame.DataFrame'>\n",
      "Int64Index: 893 entries, 0 to 47\n",
      "Data columns (total 31 columns):\n",
      "Name           893 non-null object\n",
      "Age            893 non-null int64\n",
      "Unnamed: 2     893 non-null category\n",
      "B              893 non-null category\n",
      "T              893 non-null category\n",
      "Ht             893 non-null int64\n",
      "Wt             893 non-null int64\n",
      "DoB            893 non-null datetime64[ns]\n",
      "Yrs            893 non-null object\n",
      "G              893 non-null int64\n",
      "GS             893 non-null int64\n",
      "Batting        893 non-null int64\n",
      "Defense        893 non-null int64\n",
      "P              893 non-null int64\n",
      "C              893 non-null int64\n",
      "1B             893 non-null int64\n",
      "2B             893 non-null int64\n",
      "3B             893 non-null int64\n",
      "SS             893 non-null int64\n",
      "LF             893 non-null int64\n",
      "CF             893 non-null int64\n",
      "RF             893 non-null int64\n",
      "OF             893 non-null int64\n",
      "DH             893 non-null int64\n",
      "PH             893 non-null int64\n",
      "PR             893 non-null int64\n",
      "WAR            893 non-null float64\n",
      "Salary         521 non-null float64\n",
      "Unnamed: 28    893 non-null object\n",
      "Year           893 non-null int64\n",
      "Team           893 non-null category\n",
      "dtypes: category(4), datetime64[ns](1), float64(2), int64(21), object(3)\n",
      "memory usage: 199.8+ KB\n"
     ]
    }
   ],
   "source": [
    "from dateutil import parser\n",
    "\n",
    "df_all_rosters_clean['DoB'] = df_all_rosters_clean['DoB'].apply(lambda x: parser.parse(x))\n",
    "df_all_rosters_clean.info()"
   ]
  },
  {
   "cell_type": "code",
   "execution_count": 59,
   "metadata": {},
   "outputs": [
    {
     "data": {
      "text/plain": [
       "Index(['Name', 'Age', 'Unnamed: 2', 'B', 'T', 'Ht', 'Wt', 'DoB', 'Yrs', 'G',\n",
       "       'GS', 'Batting', 'Defense', 'P', 'C', '1B', '2B', '3B', 'SS', 'LF',\n",
       "       'CF', 'RF', 'OF', 'DH', 'PH', 'PR', 'WAR', 'Salary', 'Unnamed: 28',\n",
       "       'Year', 'Team'],\n",
       "      dtype='object')"
      ]
     },
     "execution_count": 59,
     "metadata": {},
     "output_type": "execute_result"
    }
   ],
   "source": [
    "df_all_rosters_clean.columns"
   ]
  },
  {
   "cell_type": "code",
   "execution_count": 60,
   "metadata": {},
   "outputs": [
    {
     "name": "stdout",
     "output_type": "stream",
     "text": [
      "Index(['player_name', 'player_age', 'country', 'batting_side', 'throwing_side',\n",
      "       'height', 'weight', 'dob', 'yrs_exp', 'num_games_played',\n",
      "       'num_games_started', 'num_games_batorder', 'num_games_def',\n",
      "       'num_games_pitcher', 'num_games_catcher', 'num_games_1b',\n",
      "       'num_games_2b', 'num_games_3b', 'num_games_ss', 'num_games_lft_fld',\n",
      "       'num_games_c_fld', 'num_games_rgt_fld', 'num_games_out_fld',\n",
      "       'num_games_desig_hit', 'num_games_pin_hit', 'num_games_pin_run',\n",
      "       'wins_above_replace', 'salary', 'allstar_status', 'roster_yr', 'city'],\n",
      "      dtype='object')\n"
     ]
    }
   ],
   "source": [
    "roster_columns = ['player_name','player_age','country','batting_side','throwing_side','height','weight','dob','yrs_exp',\n",
    "                  'num_games_played', 'num_games_started', 'num_games_batorder', 'num_games_def', 'num_games_pitcher',\n",
    "                  'num_games_catcher', 'num_games_1b', 'num_games_2b', 'num_games_3b', 'num_games_ss', 'num_games_lft_fld',\n",
    "                  'num_games_c_fld','num_games_rgt_fld', 'num_games_out_fld', 'num_games_desig_hit', 'num_games_pin_hit',\n",
    "                  'num_games_pin_run','wins_above_replace', 'salary', 'allstar_status', 'roster_yr', 'city'\n",
    "                 ]\n",
    "\n",
    "df_all_rosters_clean.columns = roster_columns\n",
    "print(df_all_rosters_clean.columns)"
   ]
  },
  {
   "cell_type": "code",
   "execution_count": 61,
   "metadata": {},
   "outputs": [
    {
     "data": {
      "text/html": [
       "<div>\n",
       "<style scoped>\n",
       "    .dataframe tbody tr th:only-of-type {\n",
       "        vertical-align: middle;\n",
       "    }\n",
       "\n",
       "    .dataframe tbody tr th {\n",
       "        vertical-align: top;\n",
       "    }\n",
       "\n",
       "    .dataframe thead th {\n",
       "        text-align: right;\n",
       "    }\n",
       "</style>\n",
       "<table border=\"1\" class=\"dataframe\">\n",
       "  <thead>\n",
       "    <tr style=\"text-align: right;\">\n",
       "      <th></th>\n",
       "      <th>player_name</th>\n",
       "      <th>player_age</th>\n",
       "      <th>country</th>\n",
       "      <th>batting_side</th>\n",
       "      <th>throwing_side</th>\n",
       "      <th>height</th>\n",
       "      <th>weight</th>\n",
       "      <th>num_games_played</th>\n",
       "      <th>num_games_started</th>\n",
       "      <th>num_games_batorder</th>\n",
       "      <th>num_games_def</th>\n",
       "      <th>num_games_pitcher</th>\n",
       "      <th>num_games_catcher</th>\n",
       "      <th>num_games_1b</th>\n",
       "      <th>num_games_2b</th>\n",
       "    </tr>\n",
       "  </thead>\n",
       "  <tbody>\n",
       "    <tr>\n",
       "      <th>0</th>\n",
       "      <td>Jimmy Anderson</td>\n",
       "      <td>24</td>\n",
       "      <td>US</td>\n",
       "      <td>L</td>\n",
       "      <td>L</td>\n",
       "      <td>73</td>\n",
       "      <td>195</td>\n",
       "      <td>27</td>\n",
       "      <td>26</td>\n",
       "      <td>27</td>\n",
       "      <td>27</td>\n",
       "      <td>27</td>\n",
       "      <td>0</td>\n",
       "      <td>0</td>\n",
       "      <td>0</td>\n",
       "    </tr>\n",
       "    <tr>\n",
       "      <th>1</th>\n",
       "      <td>Bronson Arroyo</td>\n",
       "      <td>23</td>\n",
       "      <td>US</td>\n",
       "      <td>R</td>\n",
       "      <td>R</td>\n",
       "      <td>75</td>\n",
       "      <td>185</td>\n",
       "      <td>21</td>\n",
       "      <td>12</td>\n",
       "      <td>21</td>\n",
       "      <td>20</td>\n",
       "      <td>20</td>\n",
       "      <td>0</td>\n",
       "      <td>0</td>\n",
       "      <td>0</td>\n",
       "    </tr>\n",
       "    <tr>\n",
       "      <th>2</th>\n",
       "      <td>Bruce Aven</td>\n",
       "      <td>28</td>\n",
       "      <td>US</td>\n",
       "      <td>R</td>\n",
       "      <td>R</td>\n",
       "      <td>69</td>\n",
       "      <td>180</td>\n",
       "      <td>72</td>\n",
       "      <td>26</td>\n",
       "      <td>72</td>\n",
       "      <td>41</td>\n",
       "      <td>0</td>\n",
       "      <td>0</td>\n",
       "      <td>0</td>\n",
       "      <td>0</td>\n",
       "    </tr>\n",
       "    <tr>\n",
       "      <th>3</th>\n",
       "      <td>Mike Benjamin</td>\n",
       "      <td>34</td>\n",
       "      <td>US</td>\n",
       "      <td>R</td>\n",
       "      <td>R</td>\n",
       "      <td>75</td>\n",
       "      <td>195</td>\n",
       "      <td>93</td>\n",
       "      <td>54</td>\n",
       "      <td>93</td>\n",
       "      <td>85</td>\n",
       "      <td>0</td>\n",
       "      <td>0</td>\n",
       "      <td>1</td>\n",
       "      <td>27</td>\n",
       "    </tr>\n",
       "    <tr>\n",
       "      <th>4</th>\n",
       "      <td>Kris Benson</td>\n",
       "      <td>25</td>\n",
       "      <td>US</td>\n",
       "      <td>R</td>\n",
       "      <td>R</td>\n",
       "      <td>76</td>\n",
       "      <td>190</td>\n",
       "      <td>32</td>\n",
       "      <td>32</td>\n",
       "      <td>30</td>\n",
       "      <td>32</td>\n",
       "      <td>32</td>\n",
       "      <td>0</td>\n",
       "      <td>0</td>\n",
       "      <td>0</td>\n",
       "    </tr>\n",
       "    <tr>\n",
       "      <th>5</th>\n",
       "      <td>Adrian Brown</td>\n",
       "      <td>26</td>\n",
       "      <td>US</td>\n",
       "      <td>B</td>\n",
       "      <td>R</td>\n",
       "      <td>72</td>\n",
       "      <td>175</td>\n",
       "      <td>104</td>\n",
       "      <td>63</td>\n",
       "      <td>104</td>\n",
       "      <td>92</td>\n",
       "      <td>0</td>\n",
       "      <td>0</td>\n",
       "      <td>0</td>\n",
       "      <td>0</td>\n",
       "    </tr>\n",
       "    <tr>\n",
       "      <th>6</th>\n",
       "      <td>Emil Brown</td>\n",
       "      <td>25</td>\n",
       "      <td>US</td>\n",
       "      <td>R</td>\n",
       "      <td>R</td>\n",
       "      <td>74</td>\n",
       "      <td>195</td>\n",
       "      <td>50</td>\n",
       "      <td>26</td>\n",
       "      <td>50</td>\n",
       "      <td>38</td>\n",
       "      <td>0</td>\n",
       "      <td>0</td>\n",
       "      <td>0</td>\n",
       "      <td>0</td>\n",
       "    </tr>\n",
       "    <tr>\n",
       "      <th>7</th>\n",
       "      <td>Jason Christiansen</td>\n",
       "      <td>30</td>\n",
       "      <td>US</td>\n",
       "      <td>R</td>\n",
       "      <td>L</td>\n",
       "      <td>77</td>\n",
       "      <td>230</td>\n",
       "      <td>44</td>\n",
       "      <td>0</td>\n",
       "      <td>41</td>\n",
       "      <td>44</td>\n",
       "      <td>44</td>\n",
       "      <td>0</td>\n",
       "      <td>0</td>\n",
       "      <td>0</td>\n",
       "    </tr>\n",
       "    <tr>\n",
       "      <th>8</th>\n",
       "      <td>Brad Clontz</td>\n",
       "      <td>29</td>\n",
       "      <td>US</td>\n",
       "      <td>R</td>\n",
       "      <td>R</td>\n",
       "      <td>73</td>\n",
       "      <td>180</td>\n",
       "      <td>5</td>\n",
       "      <td>0</td>\n",
       "      <td>5</td>\n",
       "      <td>5</td>\n",
       "      <td>5</td>\n",
       "      <td>0</td>\n",
       "      <td>0</td>\n",
       "      <td>0</td>\n",
       "    </tr>\n",
       "    <tr>\n",
       "      <th>9</th>\n",
       "      <td>Wil Cordero</td>\n",
       "      <td>28</td>\n",
       "      <td>PR</td>\n",
       "      <td>R</td>\n",
       "      <td>R</td>\n",
       "      <td>74</td>\n",
       "      <td>185</td>\n",
       "      <td>89</td>\n",
       "      <td>84</td>\n",
       "      <td>89</td>\n",
       "      <td>85</td>\n",
       "      <td>0</td>\n",
       "      <td>0</td>\n",
       "      <td>0</td>\n",
       "      <td>0</td>\n",
       "    </tr>\n",
       "  </tbody>\n",
       "</table>\n",
       "</div>"
      ],
      "text/plain": [
       "          player_name  player_age country batting_side throwing_side  height  \\\n",
       "0      Jimmy Anderson          24      US            L             L      73   \n",
       "1      Bronson Arroyo          23      US            R             R      75   \n",
       "2          Bruce Aven          28      US            R             R      69   \n",
       "3       Mike Benjamin          34      US            R             R      75   \n",
       "4         Kris Benson          25      US            R             R      76   \n",
       "5        Adrian Brown          26      US            B             R      72   \n",
       "6          Emil Brown          25      US            R             R      74   \n",
       "7  Jason Christiansen          30      US            R             L      77   \n",
       "8         Brad Clontz          29      US            R             R      73   \n",
       "9         Wil Cordero          28      PR            R             R      74   \n",
       "\n",
       "   weight  num_games_played  num_games_started  num_games_batorder  \\\n",
       "0     195                27                 26                  27   \n",
       "1     185                21                 12                  21   \n",
       "2     180                72                 26                  72   \n",
       "3     195                93                 54                  93   \n",
       "4     190                32                 32                  30   \n",
       "5     175               104                 63                 104   \n",
       "6     195                50                 26                  50   \n",
       "7     230                44                  0                  41   \n",
       "8     180                 5                  0                   5   \n",
       "9     185                89                 84                  89   \n",
       "\n",
       "   num_games_def  num_games_pitcher  num_games_catcher  num_games_1b  \\\n",
       "0             27                 27                  0             0   \n",
       "1             20                 20                  0             0   \n",
       "2             41                  0                  0             0   \n",
       "3             85                  0                  0             1   \n",
       "4             32                 32                  0             0   \n",
       "5             92                  0                  0             0   \n",
       "6             38                  0                  0             0   \n",
       "7             44                 44                  0             0   \n",
       "8              5                  5                  0             0   \n",
       "9             85                  0                  0             0   \n",
       "\n",
       "   num_games_2b  \n",
       "0             0  \n",
       "1             0  \n",
       "2             0  \n",
       "3            27  \n",
       "4             0  \n",
       "5             0  \n",
       "6             0  \n",
       "7             0  \n",
       "8             0  \n",
       "9             0  "
      ]
     },
     "execution_count": 61,
     "metadata": {},
     "output_type": "execute_result"
    }
   ],
   "source": [
    "df_all_rosters_clean.drop(['yrs_exp','dob'], axis=1, inplace=True)\n",
    "\n",
    "df_all_rosters_clean.iloc[:,:15].head(10)"
   ]
  },
  {
   "cell_type": "code",
   "execution_count": 62,
   "metadata": {},
   "outputs": [
    {
     "data": {
      "text/html": [
       "<div>\n",
       "<style scoped>\n",
       "    .dataframe tbody tr th:only-of-type {\n",
       "        vertical-align: middle;\n",
       "    }\n",
       "\n",
       "    .dataframe tbody tr th {\n",
       "        vertical-align: top;\n",
       "    }\n",
       "\n",
       "    .dataframe thead th {\n",
       "        text-align: right;\n",
       "    }\n",
       "</style>\n",
       "<table border=\"1\" class=\"dataframe\">\n",
       "  <thead>\n",
       "    <tr style=\"text-align: right;\">\n",
       "      <th></th>\n",
       "      <th>num_games_3b</th>\n",
       "      <th>num_games_ss</th>\n",
       "      <th>num_games_lft_fld</th>\n",
       "      <th>num_games_c_fld</th>\n",
       "      <th>num_games_rgt_fld</th>\n",
       "      <th>num_games_out_fld</th>\n",
       "      <th>num_games_desig_hit</th>\n",
       "      <th>num_games_pin_hit</th>\n",
       "      <th>num_games_pin_run</th>\n",
       "      <th>wins_above_replace</th>\n",
       "      <th>salary</th>\n",
       "      <th>allstar_status</th>\n",
       "      <th>roster_yr</th>\n",
       "      <th>city</th>\n",
       "    </tr>\n",
       "  </thead>\n",
       "  <tbody>\n",
       "    <tr>\n",
       "      <th>0</th>\n",
       "      <td>0</td>\n",
       "      <td>0</td>\n",
       "      <td>0</td>\n",
       "      <td>0</td>\n",
       "      <td>0</td>\n",
       "      <td>0</td>\n",
       "      <td>0</td>\n",
       "      <td>0</td>\n",
       "      <td>0</td>\n",
       "      <td>0.7</td>\n",
       "      <td>215000.0</td>\n",
       "      <td>Regular</td>\n",
       "      <td>2000</td>\n",
       "      <td>PIT</td>\n",
       "    </tr>\n",
       "    <tr>\n",
       "      <th>1</th>\n",
       "      <td>0</td>\n",
       "      <td>0</td>\n",
       "      <td>0</td>\n",
       "      <td>0</td>\n",
       "      <td>0</td>\n",
       "      <td>0</td>\n",
       "      <td>0</td>\n",
       "      <td>1</td>\n",
       "      <td>1</td>\n",
       "      <td>-1.1</td>\n",
       "      <td>NaN</td>\n",
       "      <td>Regular</td>\n",
       "      <td>2000</td>\n",
       "      <td>PIT</td>\n",
       "    </tr>\n",
       "    <tr>\n",
       "      <th>2</th>\n",
       "      <td>0</td>\n",
       "      <td>0</td>\n",
       "      <td>17</td>\n",
       "      <td>8</td>\n",
       "      <td>20</td>\n",
       "      <td>45</td>\n",
       "      <td>0</td>\n",
       "      <td>35</td>\n",
       "      <td>0</td>\n",
       "      <td>-0.4</td>\n",
       "      <td>320000.0</td>\n",
       "      <td>Regular</td>\n",
       "      <td>2000</td>\n",
       "      <td>PIT</td>\n",
       "    </tr>\n",
       "    <tr>\n",
       "      <th>3</th>\n",
       "      <td>34</td>\n",
       "      <td>30</td>\n",
       "      <td>0</td>\n",
       "      <td>0</td>\n",
       "      <td>0</td>\n",
       "      <td>0</td>\n",
       "      <td>0</td>\n",
       "      <td>9</td>\n",
       "      <td>7</td>\n",
       "      <td>1.0</td>\n",
       "      <td>700000.0</td>\n",
       "      <td>Regular</td>\n",
       "      <td>2000</td>\n",
       "      <td>PIT</td>\n",
       "    </tr>\n",
       "    <tr>\n",
       "      <th>4</th>\n",
       "      <td>0</td>\n",
       "      <td>0</td>\n",
       "      <td>0</td>\n",
       "      <td>0</td>\n",
       "      <td>0</td>\n",
       "      <td>0</td>\n",
       "      <td>0</td>\n",
       "      <td>0</td>\n",
       "      <td>0</td>\n",
       "      <td>4.9</td>\n",
       "      <td>300000.0</td>\n",
       "      <td>Regular</td>\n",
       "      <td>2000</td>\n",
       "      <td>PIT</td>\n",
       "    </tr>\n",
       "    <tr>\n",
       "      <th>5</th>\n",
       "      <td>0</td>\n",
       "      <td>0</td>\n",
       "      <td>7</td>\n",
       "      <td>71</td>\n",
       "      <td>15</td>\n",
       "      <td>93</td>\n",
       "      <td>0</td>\n",
       "      <td>23</td>\n",
       "      <td>0</td>\n",
       "      <td>1.6</td>\n",
       "      <td>285000.0</td>\n",
       "      <td>Regular</td>\n",
       "      <td>2000</td>\n",
       "      <td>PIT</td>\n",
       "    </tr>\n",
       "    <tr>\n",
       "      <th>6</th>\n",
       "      <td>0</td>\n",
       "      <td>0</td>\n",
       "      <td>14</td>\n",
       "      <td>12</td>\n",
       "      <td>18</td>\n",
       "      <td>44</td>\n",
       "      <td>0</td>\n",
       "      <td>15</td>\n",
       "      <td>1</td>\n",
       "      <td>-0.5</td>\n",
       "      <td>NaN</td>\n",
       "      <td>Regular</td>\n",
       "      <td>2000</td>\n",
       "      <td>PIT</td>\n",
       "    </tr>\n",
       "    <tr>\n",
       "      <th>7</th>\n",
       "      <td>0</td>\n",
       "      <td>0</td>\n",
       "      <td>0</td>\n",
       "      <td>0</td>\n",
       "      <td>0</td>\n",
       "      <td>0</td>\n",
       "      <td>0</td>\n",
       "      <td>0</td>\n",
       "      <td>0</td>\n",
       "      <td>0.2</td>\n",
       "      <td>1000000.0</td>\n",
       "      <td>Regular</td>\n",
       "      <td>2000</td>\n",
       "      <td>PIT</td>\n",
       "    </tr>\n",
       "    <tr>\n",
       "      <th>8</th>\n",
       "      <td>0</td>\n",
       "      <td>0</td>\n",
       "      <td>0</td>\n",
       "      <td>0</td>\n",
       "      <td>0</td>\n",
       "      <td>0</td>\n",
       "      <td>0</td>\n",
       "      <td>0</td>\n",
       "      <td>0</td>\n",
       "      <td>0.1</td>\n",
       "      <td>NaN</td>\n",
       "      <td>Regular</td>\n",
       "      <td>2000</td>\n",
       "      <td>PIT</td>\n",
       "    </tr>\n",
       "    <tr>\n",
       "      <th>9</th>\n",
       "      <td>0</td>\n",
       "      <td>0</td>\n",
       "      <td>85</td>\n",
       "      <td>0</td>\n",
       "      <td>0</td>\n",
       "      <td>85</td>\n",
       "      <td>1</td>\n",
       "      <td>4</td>\n",
       "      <td>0</td>\n",
       "      <td>-0.3</td>\n",
       "      <td>2166667.0</td>\n",
       "      <td>Regular</td>\n",
       "      <td>2000</td>\n",
       "      <td>PIT</td>\n",
       "    </tr>\n",
       "  </tbody>\n",
       "</table>\n",
       "</div>"
      ],
      "text/plain": [
       "   num_games_3b  num_games_ss  num_games_lft_fld  num_games_c_fld  \\\n",
       "0             0             0                  0                0   \n",
       "1             0             0                  0                0   \n",
       "2             0             0                 17                8   \n",
       "3            34            30                  0                0   \n",
       "4             0             0                  0                0   \n",
       "5             0             0                  7               71   \n",
       "6             0             0                 14               12   \n",
       "7             0             0                  0                0   \n",
       "8             0             0                  0                0   \n",
       "9             0             0                 85                0   \n",
       "\n",
       "   num_games_rgt_fld  num_games_out_fld  num_games_desig_hit  \\\n",
       "0                  0                  0                    0   \n",
       "1                  0                  0                    0   \n",
       "2                 20                 45                    0   \n",
       "3                  0                  0                    0   \n",
       "4                  0                  0                    0   \n",
       "5                 15                 93                    0   \n",
       "6                 18                 44                    0   \n",
       "7                  0                  0                    0   \n",
       "8                  0                  0                    0   \n",
       "9                  0                 85                    1   \n",
       "\n",
       "   num_games_pin_hit  num_games_pin_run  wins_above_replace     salary  \\\n",
       "0                  0                  0                 0.7   215000.0   \n",
       "1                  1                  1                -1.1        NaN   \n",
       "2                 35                  0                -0.4   320000.0   \n",
       "3                  9                  7                 1.0   700000.0   \n",
       "4                  0                  0                 4.9   300000.0   \n",
       "5                 23                  0                 1.6   285000.0   \n",
       "6                 15                  1                -0.5        NaN   \n",
       "7                  0                  0                 0.2  1000000.0   \n",
       "8                  0                  0                 0.1        NaN   \n",
       "9                  4                  0                -0.3  2166667.0   \n",
       "\n",
       "  allstar_status  roster_yr city  \n",
       "0        Regular       2000  PIT  \n",
       "1        Regular       2000  PIT  \n",
       "2        Regular       2000  PIT  \n",
       "3        Regular       2000  PIT  \n",
       "4        Regular       2000  PIT  \n",
       "5        Regular       2000  PIT  \n",
       "6        Regular       2000  PIT  \n",
       "7        Regular       2000  PIT  \n",
       "8        Regular       2000  PIT  \n",
       "9        Regular       2000  PIT  "
      ]
     },
     "execution_count": 62,
     "metadata": {},
     "output_type": "execute_result"
    }
   ],
   "source": [
    "df_all_rosters_clean.iloc[:,15:].head(10)"
   ]
  },
  {
   "cell_type": "markdown",
   "metadata": {},
   "source": [
    "### Feature Selection\n",
    "Since there are a large number (105) of features in this dataset this would take a really long time to train and test, as well as leading to potential overfitting. Next, we need to determine which features we think are likely to be important our target variable to help reduce the computational workload and improve performance. \n",
    "\n",
    "One way is review a more concise summary of the DataFrame. The **info()** method in the **Pandas** library allows us to do just that by printing information about a DataFrame including the index dtype and column dtypes, non-null values and memory usage."
   ]
  },
  {
   "cell_type": "code",
   "execution_count": 63,
   "metadata": {},
   "outputs": [],
   "source": [
    "def get_pos_class(s):    \n",
    "    if s['num_games_pitcher'] > 0:\n",
    "        return 'Pitcher'\n",
    "    elif s['num_games_catcher'] > 0:\n",
    "        return 'Catcher'\n",
    "    elif (s['num_games_1b'] > 0) | (s['num_games_2b'] > 0) | (s['num_games_3b'] > 0) | (s['num_games_ss'] > 0):  \n",
    "        return 'Inner Fielder'\n",
    "    elif (s['num_games_lft_fld']) | (s['num_games_c_fld']) | (s['num_games_rgt_fld']):\n",
    "        return 'Out Fielder'\n",
    "    else:\n",
    "        return 'Unknown'"
   ]
  },
  {
   "cell_type": "code",
   "execution_count": 64,
   "metadata": {},
   "outputs": [
    {
     "data": {
      "text/plain": [
       "0          Pitcher\n",
       "1          Pitcher\n",
       "2      Out Fielder\n",
       "3    Inner Fielder\n",
       "4          Pitcher\n",
       "Name: position_class, dtype: object"
      ]
     },
     "execution_count": 64,
     "metadata": {},
     "output_type": "execute_result"
    }
   ],
   "source": [
    "#df_all_rosters_fest = set_pos_class(df_all_rosters_clean)\n",
    "df_all_rosters_clean['position_class'] = df_all_rosters_clean.apply(get_pos_class, axis=1)\n",
    "\n",
    "df_all_rosters_clean['position_class'].head()"
   ]
  },
  {
   "cell_type": "code",
   "execution_count": 65,
   "metadata": {},
   "outputs": [
    {
     "name": "stdout",
     "output_type": "stream",
     "text": [
      "<class 'pandas.core.frame.DataFrame'>\n",
      "Int64Index: 893 entries, 0 to 47\n",
      "Data columns (total 30 columns):\n",
      "player_name            893 non-null object\n",
      "player_age             893 non-null int64\n",
      "country                893 non-null category\n",
      "batting_side           893 non-null category\n",
      "throwing_side          893 non-null category\n",
      "height                 893 non-null int64\n",
      "weight                 893 non-null int64\n",
      "num_games_played       893 non-null int64\n",
      "num_games_started      893 non-null int64\n",
      "num_games_batorder     893 non-null int64\n",
      "num_games_def          893 non-null int64\n",
      "num_games_pitcher      893 non-null int64\n",
      "num_games_catcher      893 non-null int64\n",
      "num_games_1b           893 non-null int64\n",
      "num_games_2b           893 non-null int64\n",
      "num_games_3b           893 non-null int64\n",
      "num_games_ss           893 non-null int64\n",
      "num_games_lft_fld      893 non-null int64\n",
      "num_games_c_fld        893 non-null int64\n",
      "num_games_rgt_fld      893 non-null int64\n",
      "num_games_out_fld      893 non-null int64\n",
      "num_games_desig_hit    893 non-null int64\n",
      "num_games_pin_hit      893 non-null int64\n",
      "num_games_pin_run      893 non-null int64\n",
      "wins_above_replace     893 non-null float64\n",
      "salary                 521 non-null float64\n",
      "allstar_status         893 non-null object\n",
      "roster_yr              893 non-null int64\n",
      "city                   893 non-null category\n",
      "position_class         893 non-null object\n",
      "dtypes: category(4), float64(2), int64(21), object(3)\n",
      "memory usage: 192.9+ KB\n"
     ]
    }
   ],
   "source": [
    "df_all_rosters_clean.info()"
   ]
  },
  {
   "cell_type": "markdown",
   "metadata": {},
   "source": [
    "Since we have both the Height and Weight of each players, we can also calculate a player's Body Mass Index (BMI), so let's that in our dataset."
   ]
  },
  {
   "cell_type": "code",
   "execution_count": 66,
   "metadata": {},
   "outputs": [
    {
     "name": "stdout",
     "output_type": "stream",
     "text": [
      "0    25.726864\n",
      "1    23.123158\n",
      "2    26.581059\n",
      "3    24.373059\n",
      "4    23.127270\n",
      "Name: BMI, dtype: float64\n"
     ]
    }
   ],
   "source": [
    "df_all_rosters_clean['BMI'] = df_all_rosters_clean.apply(lambda x: (x['weight']*0.453592)/(x['height']* 0.0254)**2, axis=1)\n",
    "print(df_all_rosters_clean['BMI'].head())"
   ]
  },
  {
   "cell_type": "markdown",
   "metadata": {},
   "source": [
    "### Analytic Approach\n",
    "Now that we have a better idea of the data within the DataFrame we need to make three distinctions to choice the right path forward with our analysis.\n",
    "\n",
    "1. Is this going to be supervised or unsupervised learning?   \n",
    "We have a defined/labeled dependent or y variable, 'Position', allowing **Supervised Learning** to be performed. The computer to learn from our clearly labeled dataset.   \n",
    "\n",
    "\n",
    "2. Is this a classification or regression problem?   \n",
    "One way to identify the type of problem is to look at the y variable to see if it is discrete or continuous, and if its categorical or quantitative. Since 'Position' is discrete and categorical in nature, this is a **Classification** problem, specifically this is a **Multi-Class Classification** problem because each hard drive for a given day has either failed or not.\n",
    "\n",
    "\n",
    "3. Is this a prediction or inference problem?   \n",
    "The business use case is to create a model to be leverage to estimate a player's position, therefore this is **Prediction** problem. We will want the model to estimate a y ('Position') value, given a variety of features.   "
   ]
  },
  {
   "cell_type": "markdown",
   "metadata": {},
   "source": [
    "## Exploratory Data Analysis - Quantitative\n",
    "Now that we have loaded our dataset into a **Pandas** dataframe lets take a look at to understand our data better."
   ]
  },
  {
   "cell_type": "code",
   "execution_count": 67,
   "metadata": {},
   "outputs": [
    {
     "ename": "NameError",
     "evalue": "name 'df_rosters' is not defined",
     "output_type": "error",
     "traceback": [
      "\u001b[0;31m---------------------------------------------------------------------------\u001b[0m",
      "\u001b[0;31mNameError\u001b[0m                                 Traceback (most recent call last)",
      "\u001b[0;32m<ipython-input-67-1fb68912b222>\u001b[0m in \u001b[0;36m<module>\u001b[0;34m\u001b[0m\n\u001b[1;32m      2\u001b[0m \u001b[0;34m\u001b[0m\u001b[0m\n\u001b[1;32m      3\u001b[0m \u001b[0;31m# Review the shape (rows, columns) of df_rosters\u001b[0m\u001b[0;34m\u001b[0m\u001b[0;34m\u001b[0m\u001b[0;34m\u001b[0m\u001b[0m\n\u001b[0;32m----> 4\u001b[0;31m \u001b[0mprint\u001b[0m\u001b[0;34m(\u001b[0m\u001b[0mdf_rosters\u001b[0m\u001b[0;34m.\u001b[0m\u001b[0mshape\u001b[0m\u001b[0;34m)\u001b[0m\u001b[0;34m\u001b[0m\u001b[0;34m\u001b[0m\u001b[0m\n\u001b[0m",
      "\u001b[0;31mNameError\u001b[0m: name 'df_rosters' is not defined"
     ]
    }
   ],
   "source": [
    "# Explore Dimensions of the Dataset\n",
    "\n",
    "# Review the shape (rows, columns) of df_rosters\n",
    "print(df_rosters.shape)"
   ]
  },
  {
   "cell_type": "markdown",
   "metadata": {},
   "source": [
    "We can see that our dataset has 196 rows or observations and 9 columns or features. Let's take a quick look at the data of the top 10 rows."
   ]
  },
  {
   "cell_type": "code",
   "execution_count": null,
   "metadata": {},
   "outputs": [],
   "source": [
    "# Preview the first 10 rows/observations\n",
    "df_rosters.head(10)"
   ]
  },
  {
   "cell_type": "markdown",
   "metadata": {},
   "source": [
    "Now that we have a better understanding of the general shape of the data and have previewed the dataset, lets look at a statistical summary of out features. One useful method is the **Pandas** method **describe()**. This method provides some descriptive summary statisticals such as count, mean, minimum and maximum values for numeric features."
   ]
  },
  {
   "cell_type": "code",
   "execution_count": null,
   "metadata": {},
   "outputs": [],
   "source": [
    "df_rosters.describe()"
   ]
  },
  {
   "cell_type": "markdown",
   "metadata": {},
   "source": [
    "Hmm.. We would expect summary statistics for more features, so let's take a look at the feature's metadata by leveraging the **Pandas** method **info()**."
   ]
  },
  {
   "cell_type": "code",
   "execution_count": null,
   "metadata": {},
   "outputs": [],
   "source": [
    "print(df_rosters.info())"
   ]
  },
  {
   "cell_type": "markdown",
   "metadata": {},
   "source": [
    "Well there's our problem, some of the features are of object type that should be integer. So that means we need to do some **Data Cleansing**. Lets start by changing the data types of # and height to integer, by first exploring those two features again."
   ]
  },
  {
   "cell_type": "code",
   "execution_count": null,
   "metadata": {},
   "outputs": [],
   "source": [
    "print(df_rosters[['#','Height']].head())"
   ]
  },
  {
   "cell_type": "markdown",
   "metadata": {},
   "source": [
    "By previewing these two features again, we can see that '#' seems like it will be a pretty simply converstion, so we will try the **.astype()** method to convert the '#' values to an integer."
   ]
  },
  {
   "cell_type": "code",
   "execution_count": null,
   "metadata": {},
   "outputs": [],
   "source": [
    "df_rosters_clean = df_rosters.copy()\n",
    "\n",
    "try:\n",
    "    df_rosters_clean['#'] = df_rosters_clean['#'].astype(int)\n",
    "    print(df_rosters_clean['#'].head())\n",
    "except:\n",
    "    print('Value Error: Column Value must contain only numeric values in order to convert.')"
   ]
  },
  {
   "cell_type": "markdown",
   "metadata": {},
   "source": [
    "Well we can see that there are some string literals mixed into the values within the '#' so we are unable to do a straight conversion with the **.astype()** method. We will need to use **Python Regular Expressions** to clean up this feature by removing all non-numeric characters from the value before converting to an integer. "
   ]
  },
  {
   "cell_type": "code",
   "execution_count": null,
   "metadata": {},
   "outputs": [],
   "source": [
    "import re\n",
    "non_decimal = re.compile('\\d')\n",
    "df_rosters_clean['#'] = df_rosters_clean['#'].apply(lambda x: re.findall('\\d+', x)[0]).astype(int)\n",
    "\n",
    "print(df_rosters_clean['#'].head())"
   ]
  },
  {
   "cell_type": "markdown",
   "metadata": {},
   "source": [
    "Now that we cleaned up the '#' feature, let's tackle the 'Height' feature, which will require a little bit more transformation than the '#' did. It appears to be in the 'Feet - Inches' format, but we want to convert to an integer value for inches or a decimal value for feet. For this Project we'll go with inches."
   ]
  },
  {
   "cell_type": "code",
   "execution_count": null,
   "metadata": {},
   "outputs": [],
   "source": [
    "# Feet to Inches convert function\n",
    "fn_height_convert = lambda x: int(x.split('-')[0])*12 + int(x.split('-')[1])\n",
    "\n",
    "# Clean Height column by converting string representation of feet to numeric representation of inches\n",
    "df_rosters_clean['Height'] = df_rosters_clean['Height'].apply(fn_height_convert)\n",
    "\n",
    "# Test\n",
    "df_rosters_clean.head()"
   ]
  },
  {
   "cell_type": "markdown",
   "metadata": {},
   "source": [
    "While we are in a data cleansing mood, lets convert some of these object features to type 'category' where it makes sense. This is a good practice as the Category data type uses less memory which will improve performance for some operations, such as the **groupby()** operation."
   ]
  },
  {
   "cell_type": "code",
   "execution_count": null,
   "metadata": {},
   "outputs": [],
   "source": [
    "# Convert appropriate object features to category - Best Practice.\n",
    "df_rosters_clean['Position'] = df_rosters_clean['Position'].astype('category')\n",
    "df_rosters_clean['Throws'] = df_rosters_clean['Throws'].astype('category')\n",
    "df_rosters_clean['Bats'] = df_rosters_clean['Bats'].astype('category')\n",
    "print(df_rosters_clean.info())"
   ]
  },
  {
   "cell_type": "markdown",
   "metadata": {},
   "source": [
    "Another good practice is if a date feature exists, make sure its datatype is datetime related. This will allow us to take full advantage of any data and time-series operations during our analysis."
   ]
  },
  {
   "cell_type": "markdown",
   "metadata": {},
   "source": [
    "Now that we did some metadata clean-up for our dataset features, lets take one more look at the dataset metadata to make sure all our features are of appropriate type."
   ]
  },
  {
   "cell_type": "code",
   "execution_count": null,
   "metadata": {},
   "outputs": [],
   "source": [
    "print(df_rosters_clean.info()) "
   ]
  },
  {
   "cell_type": "markdown",
   "metadata": {},
   "source": [
    "Let's also take the opportunity to rename a few of the features to more descriptive names. This will help us in our analysis easily understand the data within the features."
   ]
  },
  {
   "cell_type": "code",
   "execution_count": null,
   "metadata": {},
   "outputs": [],
   "source": [
    "df_rosters_clean.rename(columns={'#': 'Number', \n",
    "                                 'Height': 'Height_Inc', \n",
    "                                 'Weight':'Weight_Lbs', \n",
    "                                 'Date Of Birth': 'DoB'}, inplace=True)\n",
    "\n",
    "print(df_rosters_clean.columns)"
   ]
  },
  {
   "cell_type": "markdown",
   "metadata": {},
   "source": [
    "The metadata looks good now, so lets generate our descriptive summary statistics again to gain a better understanding of our numeric data, by again, leveraging the **describe()** method."
   ]
  },
  {
   "cell_type": "code",
   "execution_count": null,
   "metadata": {},
   "outputs": [],
   "source": [
    "df_rosters_clean.describe()"
   ]
  },
  {
   "cell_type": "markdown",
   "metadata": {},
   "source": [
    "Now let's take a look at the distribution of rows that belong to each Position by viewing an absolution count leveraging the **groupby** method in **Pandas**."
   ]
  },
  {
   "cell_type": "code",
   "execution_count": null,
   "metadata": {},
   "outputs": [],
   "source": [
    "print(df_rosters_clean.groupby('Position').size())"
   ]
  },
  {
   "cell_type": "markdown",
   "metadata": {},
   "source": [
    "This is definitely useful information, however let's not forget that the dataset has multiple years of roster data, so the same player could be duplicated across years. So, lets add 'Year' to our **groupby()** method."
   ]
  },
  {
   "cell_type": "code",
   "execution_count": null,
   "metadata": {},
   "outputs": [],
   "source": [
    "print(df_rosters_clean.groupby(['Position', 'Year']).size())"
   ]
  },
  {
   "cell_type": "markdown",
   "metadata": {},
   "source": [
    "## Feature Engineering\n",
    "Now that we have a better understanding of our data, it has become obvious that some additional features could be generated based on the features we already have that could add to our analysis.\n",
    "\n",
    "\n",
    "For instance, we have the Data of Birth (DoB) for each player, so we can calculate their age going into the Roster year."
   ]
  },
  {
   "cell_type": "code",
   "execution_count": null,
   "metadata": {},
   "outputs": [],
   "source": [
    "df_rosters_clean.head(10)"
   ]
  },
  {
   "cell_type": "code",
   "execution_count": null,
   "metadata": {},
   "outputs": [],
   "source": [
    "df_rosters_clean['Age'] = df_rosters_clean.apply(lambda x: x['Year'] - x['DoB'].year, axis=1)\n",
    "\n",
    "df_rosters_clean.head()"
   ]
  },
  {
   "cell_type": "markdown",
   "metadata": {},
   "source": [
    "Since we have both the Height and Weight of each players, we can also calculate a player's Body Mass Index (BMI), so let's that in our dataset."
   ]
  },
  {
   "cell_type": "code",
   "execution_count": null,
   "metadata": {},
   "outputs": [],
   "source": [
    "df_rosters_clean['BMI'] = df_rosters_clean.apply(lambda x: (x['Weight_Lbs']*0.453592)/(x['Height_Inc']* 0.0254)**2, axis=1)\n",
    "print(df_rosters_clean['BMI'].head())"
   ]
  },
  {
   "cell_type": "code",
   "execution_count": null,
   "metadata": {},
   "outputs": [],
   "source": [
    "# Create helper function to determine BMI Classification per NIH\n",
    "def get_bmi_class(bmi_value):\n",
    "    \"\"\"Returns the BMI classification based on the given bmi_value \n",
    "    parameter passed into the function.\"\"\"\n",
    "    \n",
    "    # Initialize return variable\n",
    "    bmi_class = 'Unknown'\n",
    "    \n",
    "    if bmi_value < 18.5:\n",
    "        bmi_class = 'Underweight'\n",
    "    elif bmi_value >= 18.5 and bmi_value <= 24.9:\n",
    "        bmi_class = 'Normal'\n",
    "    elif bmi_value >= 25.0 and bmi_value <= 29.9:\n",
    "        bmi_class = 'Overweight'\n",
    "    elif bmi_value >= 30.0 and bmi_value <= 39.9:\n",
    "        bmi_class = 'Obesity'\n",
    "    else:\n",
    "        bmi_class = 'Extreme Obesity'\n",
    "    \n",
    "    return(bmi_class)\n",
    "\n",
    "# Add new feature/column to label player's BMI classification per NIH: df_pirates_roster['BMI_class']\n",
    "df_rosters_clean['BMI Classification'] = df_rosters_clean.apply(lambda row: get_bmi_class(row['BMI']), axis=1).astype('category')\n",
    "\n",
    "print(df_rosters_clean['BMI Classification'].head())"
   ]
  },
  {
   "cell_type": "markdown",
   "metadata": {},
   "source": [
    "## Exploratory Data Analysis - Visual\n",
    "Now that we have a basic understanding of our data, to help us gain some futher insight into our data, we want to create a visual to show the distribution of some of our features. The **Matplotlib** package has some great visual graphs that can be easily implemented in **Python**, as well as the **Seaborn** visualization package for additional visual styling and plotting abilities.\n",
    "\n",
    "\n",
    "To give a more clearer understanding of the distribution of the numeric features, let's create a box and whisker plots. "
   ]
  },
  {
   "cell_type": "code",
   "execution_count": null,
   "metadata": {},
   "outputs": [],
   "source": [
    "df_rosters_clean[['Height_Inc', 'Weight_Lbs', 'Age', 'BMI']].plot(kind='box', subplots=True, layout=(2,2), sharex=False, sharey=False)\n",
    "plt.show()"
   ]
  },
  {
   "cell_type": "code",
   "execution_count": null,
   "metadata": {},
   "outputs": [],
   "source": [
    "df_rosters_clean[['Height_Inc', 'Weight_Lbs', 'Age', 'BMI']].hist()\n",
    "plt.show()"
   ]
  },
  {
   "cell_type": "code",
   "execution_count": null,
   "metadata": {},
   "outputs": [],
   "source": [
    "from pandas.plotting import scatter_matrix\n",
    "\n",
    "# scatter plot matrix\n",
    "scatter_matrix(df_rosters_clean[['Height_Inc', 'Weight_Lbs', 'Age', 'BMI']])\n",
    "plt.show()"
   ]
  },
  {
   "cell_type": "code",
   "execution_count": null,
   "metadata": {},
   "outputs": [],
   "source": [
    "sns.heatmap(df_rosters_clean.corr(), square=True, cmap='RdYlGn')\n",
    "plt.show()"
   ]
  },
  {
   "cell_type": "markdown",
   "metadata": {},
   "source": [
    "# IV. Analyze the Data"
   ]
  },
  {
   "cell_type": "code",
   "execution_count": null,
   "metadata": {},
   "outputs": [],
   "source": [
    "df_roster_data = df_rosters_clean[['Height_Inc', 'Weight_Lbs', 'Age', 'BMI']]\n",
    "df_roster_target = df_rosters_clean.loc[:,'Position'].values.astype('object')\n",
    "\n",
    "print('df_roster_data datatype = {0} and df_roster_target datatype = {1}'.format(type(df_roster_data), \n",
    "                                                                                 type(df_roster_target)))"
   ]
  },
  {
   "cell_type": "code",
   "execution_count": null,
   "metadata": {},
   "outputs": [],
   "source": [
    "from sklearn.model_selection import train_test_split\n",
    "\n",
    "X_train, X_test, y_train, y_test = train_test_split(df_roster_data, \n",
    "                                                    df_roster_target, \n",
    "                                                    test_size=0.5, \n",
    "                                                    random_state = 42,\n",
    "                                                    stratify=df_roster_target)\n",
    "\n",
    "print('Training Data Shape: X - {0}, Y-{1} \\n Testing Data Shape: X - {2}, Y - {3}'.format(X_train.shape,\n",
    "                                                                                          y_train.shape,\n",
    "                                                                                          X_test.shape,\n",
    "                                                                                          y_test.shape))"
   ]
  },
  {
   "cell_type": "markdown",
   "metadata": {},
   "source": [
    "## Model Selection"
   ]
  },
  {
   "cell_type": "code",
   "execution_count": null,
   "metadata": {},
   "outputs": [],
   "source": [
    "from pprint import pprint \n",
    "from sklearn.linear_model import LogisticRegression\n",
    "from sklearn.neighbors import KNeighborsClassifier\n",
    "from sklearn.svm import SVC, LinearSVC\n",
    "\n",
    "def get_classifier_accuracies_comparison(X_train, y_train, X_test, y_test):\n",
    "    # Compare accuracy of default classification algorithms.\n",
    "    # Define the classifiers\n",
    "    classifiers = {'Logistic Regression':LogisticRegression(multi_class='multinomial', solver='newton-cg'), \n",
    "                   'SVM (Linear)':LinearSVC(dual=False), \n",
    "                   'SVM':SVC(gamma='auto'), \n",
    "                   'KNeighbors':KNeighborsClassifier(3)}\n",
    "\n",
    "    classifiers_accuracy = {}\n",
    "\n",
    "    \n",
    "    # Fit the classifiers\n",
    "    for label, c in classifiers.items():\n",
    "        c.fit(X_train, y_train)\n",
    "        c.predict\n",
    "        accuracy_score = c.score(X_test, y_test)\n",
    "        classifiers_accuracy.update( {label:accuracy_score} )\n",
    "    \n",
    "    return classifiers_accuracy"
   ]
  },
  {
   "cell_type": "code",
   "execution_count": null,
   "metadata": {},
   "outputs": [],
   "source": [
    "classifes_compare = get_classifier_accuracies_comparison(X_train, y_train, X_test, y_test)\n",
    "\n",
    "plt.bar(range(len(classifes_compare)), list(classifes_compare.values()), align='center')\n",
    "plt.xticks(range(len(classifes_compare)), list(classifes_compare.keys()))\n",
    "plt.ylabel('Classifier Accuracy Score (%)')\n",
    "plt.xlabel('Classifier')\n",
    "plt.title('Classification Algorithm Accuracy Comparison')\n",
    "plt.show()\n",
    "    \n",
    "pprint(classifes_compare)"
   ]
  },
  {
   "cell_type": "markdown",
   "metadata": {},
   "source": [
    "## Secondary Modeling"
   ]
  },
  {
   "cell_type": "code",
   "execution_count": null,
   "metadata": {},
   "outputs": [],
   "source": [
    "from sklearn.neighbors import KNeighborsClassifier\n",
    "\n",
    "knn = KNeighborsClassifier(n_neighbors=3)\n",
    "knn.fit(X_train, y_train)\n",
    "knn.predict(X_test)\n",
    "print(knn.score(X_test, y_test))"
   ]
  },
  {
   "cell_type": "code",
   "execution_count": null,
   "metadata": {},
   "outputs": [],
   "source": [
    "from sklearn.svm import SVC, LinearSVC\n",
    "\n",
    "svm = SVC(gamma='auto')\n",
    "svm.fit(X_train, y_train)\n",
    "svm.predict(X_test)\n",
    "print(svm.score(X_test, y_test))"
   ]
  },
  {
   "cell_type": "code",
   "execution_count": null,
   "metadata": {},
   "outputs": [],
   "source": []
  },
  {
   "cell_type": "code",
   "execution_count": null,
   "metadata": {},
   "outputs": [],
   "source": []
  }
 ],
 "metadata": {
  "kernelspec": {
   "display_name": "Python 3",
   "language": "python",
   "name": "python3"
  },
  "language_info": {
   "codemirror_mode": {
    "name": "ipython",
    "version": 3
   },
   "file_extension": ".py",
   "mimetype": "text/x-python",
   "name": "python",
   "nbconvert_exporter": "python",
   "pygments_lexer": "ipython3",
   "version": "3.7.1"
  }
 },
 "nbformat": 4,
 "nbformat_minor": 2
}
